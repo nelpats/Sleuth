{
 "cells": [
  {
   "cell_type": "markdown",
   "id": "75fa7b68-53b9-4ca6-8235-664fae549fc0",
   "metadata": {},
   "source": [
    " # Creating a real-time fraud detection machine learning application applied to Minecraft\n"
   ]
  },
  {
   "cell_type": "markdown",
   "id": "ec9b39be-e247-4132-a574-4203cbafe295",
   "metadata": {},
   "source": [
    "## 1 - Thoughts and Motives\n",
    "\n",
    "### 1.1 - Definition\n",
    "Cheating in Minecraft has been here since its release. Many people tried to detect different types of hacks/frauds throughout the years. However, cheat developers found always found their way around anti-fraud measures put on by servers.\n",
    "\n",
    "### 1.2 - Idea\n",
    "The idea of this project is to try and see if we use machine learning to detect a certain type of fraud, in this case \"autoclicking\". Autoclicking is the process of creating human-like click patterns and sending them to the game in order to gain an unfair advantage over another player.\n",
    "\n",
    "\n",
    "## 2 - Datasets and Algorithms\n",
    "\n",
    "### 2.1 - Dataset\n",
    "While there a not any dataset available for this kind of research, we will build our own. The dataset will be built as the following:\n",
    "\n",
    "- Collect **real** human data using mouse inputs.\n",
    "- Use multiple **algorithms** from known autoclick softwares to create human-like sequences.\n",
    "\n",
    "The data will consist of one column containing the delay $$ \\Delta D $$ ellapsed between each mouse click, defined like:\n",
    "$$\n",
    "\\Delta D = r - p\n",
    "$$\n",
    "**p**being the point in  time where the left mouse button have been pressed.\n",
    "\n",
    "**r** being the point in time where the left mouse button have been released.\n",
    "\n",
    "In this notebook we won't focus on the data collection part but rather on the process of analysing it.\n",
    "\n",
    "### 2.2 ML Algorithms\n",
    "\n",
    "While researching the differents ways of knowing if a player is clicking manually or if he's using an autoclicker, I first thought that it's like finding values in a dataset that shoudln't belong here. To better understand we need to know how a player behave when fighting an opponent in Minecraft.\n",
    "\n",
    "The most popular method to maximize chances of gaining an advantage over you opponent is jitterclicking.\n",
    "\n",
    "*Jitter clicking is the technique of contracting your hand/arm in order to produce little shaking movements resulting in clicking rapidly.*\n",
    "\n",
    "While the delays generated using jitterclicking seems random at first, there are some features that this method has which makes it unique like **muscle fatigue** or inconsistancy that leads to **spikes** or **drops** in the clicking speed. Thoe features make it harder to mimic using a algorithm and it is this particularity that we will try to exploit.\n",
    "\n",
    "### 2.3 - Isolation Forest\n",
    "\n",
    "[Isolation Forest by Fei Tony Liu, Kai Ming Ting](https://cs.nju.edu.cn/zhouzh/zhouzh.files/publication/icdm08b.pdf)\n",
    "\n",
    "Now that we know how jitter-clicking work, the first way we want to detect if a sequence of clicks are human or not is by finding anomalies in the data set, values that a human generated sequence won't contain. The most appropriate algorithm for this experiment is the Isolation Forest. IForest is made to detect anomalies, IForest have been proven to have a better AUC and processing time over LOF, Random Forests and ORCA. Futhermore, IForest performs better with a small sample/sub-sample (typcally 2^8 or 256 as stated in the original paper). This is a good point considering that nowadays, most fraud detections on Minecraft happens server-side, so IForest needing small samples and using little RAM is great.\n",
    "\n",
    "\n",
    "\r\n",
    "\n",
    "\n",
    "\n"
   ]
  },
  {
   "cell_type": "markdown",
   "id": "adf79e85-018b-486b-961b-3fabdcd39d95",
   "metadata": {},
   "source": [
    "## 3 - Implementation\n",
    "\n",
    "Now that we know what our data set looks like and which algorithm we want to use, we can start to implement our idea.\n",
    "\n",
    "### 3.1 - Analyzing our dataset"
   ]
  },
  {
   "cell_type": "code",
   "execution_count": 7,
   "id": "0a9b0dd0-131b-4fc0-9f07-59f3d8d14248",
   "metadata": {},
   "outputs": [
    {
     "name": "stdout",
     "output_type": "stream",
     "text": [
      "['click_data.csv', 'click_data1695511074461.csv', 'click_data_low.csv']\n",
      "           clicks\n",
      "count  100.000000\n",
      "mean    90.080000\n",
      "std     12.659232\n",
      "min      0.000000\n",
      "25%     88.000000\n",
      "50%     89.000000\n",
      "75%     96.000000\n",
      "max    112.000000\n"
     ]
    },
    {
     "data": {
      "text/html": [
       "<div>\n",
       "<style scoped>\n",
       "    .dataframe tbody tr th:only-of-type {\n",
       "        vertical-align: middle;\n",
       "    }\n",
       "\n",
       "    .dataframe tbody tr th {\n",
       "        vertical-align: top;\n",
       "    }\n",
       "\n",
       "    .dataframe thead th {\n",
       "        text-align: right;\n",
       "    }\n",
       "</style>\n",
       "<table border=\"1\" class=\"dataframe\">\n",
       "  <thead>\n",
       "    <tr style=\"text-align: right;\">\n",
       "      <th></th>\n",
       "      <th>clicks</th>\n",
       "    </tr>\n",
       "  </thead>\n",
       "  <tbody>\n",
       "    <tr>\n",
       "      <th>0</th>\n",
       "      <td>0.0</td>\n",
       "    </tr>\n",
       "    <tr>\n",
       "      <th>1</th>\n",
       "      <td>63.0</td>\n",
       "    </tr>\n",
       "    <tr>\n",
       "      <th>2</th>\n",
       "      <td>86.0</td>\n",
       "    </tr>\n",
       "    <tr>\n",
       "      <th>3</th>\n",
       "      <td>80.0</td>\n",
       "    </tr>\n",
       "    <tr>\n",
       "      <th>4</th>\n",
       "      <td>88.0</td>\n",
       "    </tr>\n",
       "  </tbody>\n",
       "</table>\n",
       "</div>"
      ],
      "text/plain": [
       "   clicks\n",
       "0     0.0\n",
       "1    63.0\n",
       "2    86.0\n",
       "3    80.0\n",
       "4    88.0"
      ]
     },
     "execution_count": 7,
     "metadata": {},
     "output_type": "execute_result"
    }
   ],
   "source": [
    "import numpy as np\n",
    "import pandas as pd\n",
    "import os\n",
    "print(os.listdir('input'))\n",
    "df = pd.read_csv('input/click_data_low.csv')\n",
    "print(df.describe())\n",
    "df.head()"
   ]
  },
  {
   "cell_type": "markdown",
   "id": "d46dd156-1703-4351-b8a9-6a3ab5178b1d",
   "metadata": {},
   "source": [
    "As we can see this dataset is pretty small, but as we saw, this is not really a problem with IForest. Now let's try to visualize our dataset on a scatterpoint.\n"
   ]
  },
  {
   "cell_type": "code",
   "execution_count": 8,
   "id": "a92e68fd-6dfa-4272-a4b3-daf82565f35a",
   "metadata": {},
   "outputs": [
    {
     "data": {
      "image/png": "[encoded data removed]",
      "text/plain": [
       "<Figure size 640x480 with 1 Axes>"
      ]
     },
     "metadata": {},
     "output_type": "display_data"
    }
   ],
   "source": [
    "import matplotlib.pyplot as plt\n",
    "\n",
    "fig = plt.figure()\n",
    "plt.scatter(df.index, df[\"clicks\"])\n",
    "\n",
    "plt.show()"
   ]
  },
  {
   "cell_type": "markdown",
   "id": "6b211e9f-b1e3-487c-9ae0-0a8e625d9d00",
   "metadata": {},
   "source": [
    "This plot can help us see the differents behaviors of human jitter-clicking.\n",
    "\n",
    "### 3.2 Training our model\n",
    "\n",
    "Now that we looked at our dataset, we can start using IForest."
   ]
  },
  {
   "cell_type": "code",
   "execution_count": 10,
   "id": "1281a436-7957-4773-8fe4-9805153b9184",
   "metadata": {},
   "outputs": [
    {
     "name": "stdout",
     "output_type": "stream",
     "text": [
      "anomaly\n",
      " 1    78\n",
      "-1    22\n",
      "Name: count, dtype: int64\n"
     ]
    }
   ],
   "source": [
    "from sklearn.ensemble import IsolationForest\n",
    "\n",
    "def build(data, contamination='auto') -> pd.DataFrame:\n",
    "    model = IsolationForest(contamination=contamination) # we set contamniation to auto\n",
    "    model.fit(data)\n",
    "    preds_data = {\"anomaly\": []}\n",
    "    metrics_df = pd.DataFrame(preds_data)\n",
    "    metrics_df[\"anomaly\"] = model.predict(data_array)\n",
    "    return metrics_df\n",
    "\n",
    "\n",
    "data_array = np.array(df['clicks']).reshape(-1, 1)\n",
    "\n",
    "result_df = build(data_array)\n",
    "\n",
    "print(result_df['anomaly'].value_counts())\n",
    "\n",
    "\n",
    "\n"
   ]
  },
  {
   "cell_type": "markdown",
   "id": "ef21cc13-640a-46a0-b4db-5cf72099b586",
   "metadata": {},
   "source": [
    "Let's try to plot the data again but with a different color for each class\n"
   ]
  },
  {
   "cell_type": "code",
   "execution_count": 11,
   "id": "6b2c6daa-0ed9-42bb-b997-bd9eeb942271",
   "metadata": {},
   "outputs": [
    {
     "data": {
      "image/png": "[encoded data removed]",
      "text/plain": [
       "<Figure size 640x480 with 1 Axes>"
      ]
     },
     "metadata": {},
     "output_type": "display_data"
    }
   ],
   "source": [
    "# Scatter plot with anomalies (-1) in red and non-anomalies in green\n",
    "plt.scatter(df.index[result_df['anomaly'] == -1], df['clicks'][result_df['anomaly'] == -1], color='red', label='Anomalies')\n",
    "plt.scatter(df.index[result_df['anomaly'] != -1], df['clicks'][result_df['anomaly'] == 1], color='green', label='Non-Anomalies')\n",
    "\n",
    "plt.xlabel('Index')\n",
    "plt.ylabel('Clicks')\n",
    "plt.title('Scatter Plot with Anomalies and Non-Anomalies')\n",
    "plt.legend()\n",
    "plt.show()"
   ]
  }
 ],
 "metadata": {
  "kernelspec": {
   "display_name": "Python 3 (ipykernel)",
   "language": "python",
   "name": "python3"
  },
  "language_info": {
   "codemirror_mode": {
    "name": "ipython",
    "version": 3
   },
   "file_extension": ".py",
   "mimetype": "text/x-python",
   "name": "python",
   "nbconvert_exporter": "python",
   "pygments_lexer": "ipython3",
   "version": "3.11.6"
  }
 },
 "nbformat": 4,
 "nbformat_minor": 5
}
